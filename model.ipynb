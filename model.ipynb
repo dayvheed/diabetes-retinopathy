{
  "nbformat": 4,
  "nbformat_minor": 0,
  "metadata": {
    "colab": {
      "name": "Diabetes Retinopathy Prediction with ML and DL.ipynb",
      "provenance": [],
      "collapsed_sections": []
    },
    "kernelspec": {
      "name": "python3",
      "display_name": "Python 3"
    },
    "language_info": {
      "name": "python"
    },
    "accelerator": "GPU"
  },
  "cells": [
    {
      "cell_type": "code",
      "metadata": {
        "id": "GssSF4maRtr_"
      },
      "source": [
        "# import the necessary libraries\n",
        "import pandas as pd\n",
        "import numpy as np\n",
        "from keras.preprocessing.image import ImageDataGenerator, load_img\n",
        "from keras.models import Sequential\n",
        "from keras.layers import Dense, Dropout, BatchNormalization, Conv2D\n",
        "from matplotlib import pyplot as plt\n",
        "import cv2\n",
        "from sklearn.model_selection import RandomizedSearchCV"
      ],
      "execution_count": null,
      "outputs": []
    },
    {
      "cell_type": "code",
      "metadata": {
        "colab": {
          "base_uri": "https://localhost:8080/"
        },
        "id": "f6vfR08IIbBx",
        "outputId": "6d068440-0262-4627-ad67-5ff2e27172ca"
      },
      "source": [
        "!df -h"
      ],
      "execution_count": null,
      "outputs": [
        {
          "output_type": "stream",
          "text": [
            "Filesystem      Size  Used Avail Use% Mounted on\n",
            "overlay          69G   38G   32G  55% /\n",
            "tmpfs            64M     0   64M   0% /dev\n",
            "tmpfs           6.4G     0  6.4G   0% /sys/fs/cgroup\n",
            "shm             5.8G     0  5.8G   0% /dev/shm\n",
            "/dev/sda1        76G   42G   35G  55% /opt/bin/.nvidia\n",
            "tmpfs           6.4G   28K  6.4G   1% /var/colab\n",
            "tmpfs           6.4G     0  6.4G   0% /proc/acpi\n",
            "tmpfs           6.4G     0  6.4G   0% /proc/scsi\n",
            "tmpfs           6.4G     0  6.4G   0% /sys/firmware\n"
          ],
          "name": "stdout"
        }
      ]
    },
    {
      "cell_type": "code",
      "metadata": {
        "id": "aQsmBf47T-_P",
        "colab": {
          "base_uri": "https://localhost:8080/"
        },
        "outputId": "8acd7470-430b-4518-c5d1-d219dfc8f79e"
      },
      "source": [
        "!cat /proc/cpuinfo"
      ],
      "execution_count": null,
      "outputs": [
        {
          "output_type": "stream",
          "text": [
            "processor\t: 0\n",
            "vendor_id\t: GenuineIntel\n",
            "cpu family\t: 6\n",
            "model\t\t: 63\n",
            "model name\t: Intel(R) Xeon(R) CPU @ 2.30GHz\n",
            "stepping\t: 0\n",
            "microcode\t: 0x1\n",
            "cpu MHz\t\t: 2299.998\n",
            "cache size\t: 46080 KB\n",
            "physical id\t: 0\n",
            "siblings\t: 2\n",
            "core id\t\t: 0\n",
            "cpu cores\t: 1\n",
            "apicid\t\t: 0\n",
            "initial apicid\t: 0\n",
            "fpu\t\t: yes\n",
            "fpu_exception\t: yes\n",
            "cpuid level\t: 13\n",
            "wp\t\t: yes\n",
            "flags\t\t: fpu vme de pse tsc msr pae mce cx8 apic sep mtrr pge mca cmov pat pse36 clflush mmx fxsr sse sse2 ss ht syscall nx pdpe1gb rdtscp lm constant_tsc rep_good nopl xtopology nonstop_tsc cpuid tsc_known_freq pni pclmulqdq ssse3 fma cx16 pcid sse4_1 sse4_2 x2apic movbe popcnt aes xsave avx f16c rdrand hypervisor lahf_lm abm invpcid_single ssbd ibrs ibpb stibp fsgsbase tsc_adjust bmi1 avx2 smep bmi2 erms invpcid xsaveopt arat md_clear arch_capabilities\n",
            "bugs\t\t: cpu_meltdown spectre_v1 spectre_v2 spec_store_bypass l1tf mds swapgs\n",
            "bogomips\t: 4599.99\n",
            "clflush size\t: 64\n",
            "cache_alignment\t: 64\n",
            "address sizes\t: 46 bits physical, 48 bits virtual\n",
            "power management:\n",
            "\n",
            "processor\t: 1\n",
            "vendor_id\t: GenuineIntel\n",
            "cpu family\t: 6\n",
            "model\t\t: 63\n",
            "model name\t: Intel(R) Xeon(R) CPU @ 2.30GHz\n",
            "stepping\t: 0\n",
            "microcode\t: 0x1\n",
            "cpu MHz\t\t: 2299.998\n",
            "cache size\t: 46080 KB\n",
            "physical id\t: 0\n",
            "siblings\t: 2\n",
            "core id\t\t: 0\n",
            "cpu cores\t: 1\n",
            "apicid\t\t: 1\n",
            "initial apicid\t: 1\n",
            "fpu\t\t: yes\n",
            "fpu_exception\t: yes\n",
            "cpuid level\t: 13\n",
            "wp\t\t: yes\n",
            "flags\t\t: fpu vme de pse tsc msr pae mce cx8 apic sep mtrr pge mca cmov pat pse36 clflush mmx fxsr sse sse2 ss ht syscall nx pdpe1gb rdtscp lm constant_tsc rep_good nopl xtopology nonstop_tsc cpuid tsc_known_freq pni pclmulqdq ssse3 fma cx16 pcid sse4_1 sse4_2 x2apic movbe popcnt aes xsave avx f16c rdrand hypervisor lahf_lm abm invpcid_single ssbd ibrs ibpb stibp fsgsbase tsc_adjust bmi1 avx2 smep bmi2 erms invpcid xsaveopt arat md_clear arch_capabilities\n",
            "bugs\t\t: cpu_meltdown spectre_v1 spectre_v2 spec_store_bypass l1tf mds swapgs\n",
            "bogomips\t: 4599.99\n",
            "clflush size\t: 64\n",
            "cache_alignment\t: 64\n",
            "address sizes\t: 46 bits physical, 48 bits virtual\n",
            "power management:\n",
            "\n"
          ],
          "name": "stdout"
        }
      ]
    },
    {
      "cell_type": "code",
      "metadata": {
        "id": "p3il640oSGnw"
      },
      "source": [
        "from keras.applications.vgg16 import VGG16\n",
        "import warnings\n",
        "warnings.filterwarnings(\"ignore\")"
      ],
      "execution_count": null,
      "outputs": []
    },
    {
      "cell_type": "code",
      "metadata": {
        "colab": {
          "base_uri": "https://localhost:8080/"
        },
        "id": "jcAGvo8kUnPH",
        "outputId": "cb92f1bf-ca7d-4c5c-bc45-fea38e7493bd"
      },
      "source": [
        "from google.colab import drive\n",
        "drive.mount(\"/content/gdrive\")"
      ],
      "execution_count": null,
      "outputs": [
        {
          "output_type": "stream",
          "text": [
            "Mounted at /content/gdrive\n"
          ],
          "name": "stdout"
        }
      ]
    },
    {
      "cell_type": "code",
      "metadata": {
        "id": "EeWzMID3Up8W"
      },
      "source": [
        "import os"
      ],
      "execution_count": null,
      "outputs": []
    },
    {
      "cell_type": "code",
      "metadata": {
        "colab": {
          "base_uri": "https://localhost:8080/",
          "height": 241
        },
        "id": "0NQXIhHQZ54q",
        "outputId": "b6a64f15-9c6a-490f-d192-9b9b10e4f549"
      },
      "source": [
        "load_img(os.path.join(\"/content/gdrive/MyDrive/Diabetes data/output/train/Mild\", '00cb6555d108.png'))"
      ],
      "execution_count": null,
      "outputs": [
        {
          "output_type": "execute_result",
          "data": {
            "image/png": "[encoded data removed]",
            "text/plain": [
              "<PIL.PngImagePlugin.PngImageFile image mode=RGB size=224x224 at 0x7F3F37602990>"
            ]
          },
          "metadata": {
            "tags": []
          },
          "execution_count": 5
        }
      ]
    },
    {
      "cell_type": "code",
      "metadata": {
        "id": "EA-E7nb1Z7zr"
      },
      "source": [
        "from glob import glob"
      ],
      "execution_count": null,
      "outputs": []
    },
    {
      "cell_type": "markdown",
      "metadata": {
        "id": "3mosLx3EfFVg"
      },
      "source": [
        "# Load the data"
      ]
    },
    {
      "cell_type": "code",
      "metadata": {
        "colab": {
          "base_uri": "https://localhost:8080/"
        },
        "id": "SQm6gLPsfGQC",
        "outputId": "26916610-e9ad-4e87-d630-1607f8a7a93c"
      },
      "source": [
        "#define an image size of 224 by 224\n",
        "SIZE = 224\n",
        "\n",
        "train_images = []\n",
        "train_labels = []\n",
        "\n",
        "#populate the image and labels to an empty list\n",
        "for directory_path in glob(\"/content/gdrive/MyDrive/Diabetes data/output/train/*\"):\n",
        "    label = directory_path.split('\\\\')[-1]\n",
        "    print(directory_path)\n",
        "    print('================')\n",
        "    print(label)\n",
        "\n",
        "    for img_path in glob(os.path.join(directory_path, '*.png')):\n",
        "#         print(img_path)\n",
        "        img = cv2.imread(img_path, cv2.IMREAD_COLOR)\n",
        "        img = cv2.resize(img, (SIZE, SIZE))\n",
        "        train_images.append(img)\n",
        "        train_labels.append(label)\n",
        "\n",
        "#convert list to numpy arrays\n",
        "train_images = np.array(train_images)\n",
        "train_labels = np.array(train_labels)"
      ],
      "execution_count": null,
      "outputs": [
        {
          "output_type": "stream",
          "text": [
            "/content/gdrive/MyDrive/Diabetes data/output/train/Proliferate_DR\n",
            "================\n",
            "/content/gdrive/MyDrive/Diabetes data/output/train/Proliferate_DR\n",
            "/content/gdrive/MyDrive/Diabetes data/output/train/Mild\n",
            "================\n",
            "/content/gdrive/MyDrive/Diabetes data/output/train/Mild\n",
            "/content/gdrive/MyDrive/Diabetes data/output/train/Moderate\n",
            "================\n",
            "/content/gdrive/MyDrive/Diabetes data/output/train/Moderate\n",
            "/content/gdrive/MyDrive/Diabetes data/output/train/No_DR\n",
            "================\n",
            "/content/gdrive/MyDrive/Diabetes data/output/train/No_DR\n",
            "/content/gdrive/MyDrive/Diabetes data/output/train/Severe\n",
            "================\n",
            "/content/gdrive/MyDrive/Diabetes data/output/train/Severe\n"
          ],
          "name": "stdout"
        }
      ]
    },
    {
      "cell_type": "code",
      "metadata": {
        "colab": {
          "base_uri": "https://localhost:8080/"
        },
        "id": "RdNLoHsvawV6",
        "outputId": "441a1387-132f-4426-b9dd-fbb61fd1e68d"
      },
      "source": [
        "#perform the same procedure for the test dataset\n",
        "test_images = []\n",
        "test_labels = []\n",
        "\n",
        "for directory_path in glob(\"/content/gdrive/MyDrive/Diabetes data/output/test/*\"):\n",
        "    label = directory_path.split('\\\\')[-1]\n",
        "    print(directory_path)\n",
        "    print('================')\n",
        "    print(label)\n",
        "\n",
        "    for img_path in glob(os.path.join(directory_path, '*.png')):\n",
        "#         print(img_path)\n",
        "        img = cv2.imread(img_path, cv2.IMREAD_COLOR)\n",
        "        img = cv2.resize(img, (SIZE, SIZE))\n",
        "        test_images.append(img)\n",
        "        test_labels.append(label)\n",
        "\n",
        "test_images = np.array(test_images)\n",
        "test_labels = np.array(test_labels)"
      ],
      "execution_count": null,
      "outputs": [
        {
          "output_type": "stream",
          "text": [
            "/content/gdrive/MyDrive/Diabetes data/output/test/Mild\n",
            "================\n",
            "/content/gdrive/MyDrive/Diabetes data/output/test/Mild\n",
            "/content/gdrive/MyDrive/Diabetes data/output/test/No_DR\n",
            "================\n",
            "/content/gdrive/MyDrive/Diabetes data/output/test/No_DR\n",
            "/content/gdrive/MyDrive/Diabetes data/output/test/Severe\n",
            "================\n",
            "/content/gdrive/MyDrive/Diabetes data/output/test/Severe\n",
            "/content/gdrive/MyDrive/Diabetes data/output/test/Moderate\n",
            "================\n",
            "/content/gdrive/MyDrive/Diabetes data/output/test/Moderate\n",
            "/content/gdrive/MyDrive/Diabetes data/output/test/Proliferate_DR\n",
            "================\n",
            "/content/gdrive/MyDrive/Diabetes data/output/test/Proliferate_DR\n"
          ],
          "name": "stdout"
        }
      ]
    },
    {
      "cell_type": "code",
      "metadata": {
        "id": "S8wdXaMXfzMx"
      },
      "source": [
        "from sklearn.preprocessing import LabelEncoder\n",
        "from tensorflow.keras.utils import to_categorical \n",
        "\n",
        "#convert to numbers\n",
        "encoder = LabelEncoder()\n",
        "encoder.fit(train_labels)\n",
        "train_labels_encoded = encoder.transform(train_labels)\n",
        "\n",
        "encoder.fit(test_labels)\n",
        "test_labels_encoded = encoder.transform(test_labels)"
      ],
      "execution_count": null,
      "outputs": []
    },
    {
      "cell_type": "code",
      "metadata": {
        "id": "05E-Ptvzf0Ix"
      },
      "source": [
        "\n",
        "#rename data for easy indentification\n",
        "X_train, y_train, X_test, y_test = train_images, train_labels_encoded, test_images, test_labels_encoded\n",
        "\n",
        "#normalize the image pixels\n",
        "X_train, X_test = X_train/255.0, X_test/255.0\n",
        "\n",
        "#one hot encode the labels\n",
        "train_labels_onehot = to_categorical(train_labels_encoded)\n",
        "\n",
        "test_labels_onehot = to_categorical(test_labels_encoded)"
      ],
      "execution_count": null,
      "outputs": []
    },
    {
      "cell_type": "code",
      "metadata": {
        "id": "MjCA1skSaz9h"
      },
      "source": [
        "from sklearn.ensemble import RandomForestClassifier\n",
        "from sklearn.linear_model import LinearRegression\n",
        "from sklearn.svm import SVC\n",
        "from sklearn.naive_bayes import GaussianNB\n",
        "from sklearn.neighbors import KNeighborsClassifier\n",
        "from sklearn.metrics import accuracy_score, f1_score, recall_score, precision_score, confusion_matrix"
      ],
      "execution_count": null,
      "outputs": []
    },
    {
      "cell_type": "code",
      "metadata": {
        "id": "9Ob0jsRn-yCK"
      },
      "source": [
        "from tensorflow.keras.applications import InceptionV3, ResNet50, MobileNet, DenseNet201, Xception"
      ],
      "execution_count": null,
      "outputs": []
    },
    {
      "cell_type": "markdown",
      "metadata": {
        "id": "m_RUaU5TfT1c"
      },
      "source": [
        "# Create the pre-trained and machine learning models"
      ]
    },
    {
      "cell_type": "code",
      "metadata": {
        "id": "0w5HZHma9y1f"
      },
      "source": [
        "def create_model(tf_model, ml_algorithm):\n",
        "  if tf_model == 'vgg16':\n",
        "    specific_model = VGG16(include_top=False, weights='imagenet',\n",
        "                  input_shape=(SIZE, SIZE, 3))\n",
        "  if tf_model == 'inceptionv3':\n",
        "    specific_model = InceptionV3(include_top=False, weights='imagenet',\n",
        "                  input_shape=(SIZE, SIZE, 3))\n",
        "  if tf_model == 'resnet50':\n",
        "    specific_model = ResNet50(include_top=False, weights='imagenet',\n",
        "                  input_shape=(SIZE, SIZE, 3))\n",
        "  if tf_model == 'mobilenet':\n",
        "    specific_model = MobileNet(include_top=False, weights='imagenet',\n",
        "                  input_shape=(SIZE, SIZE, 3))\n",
        "  if tf_model == 'densenet':\n",
        "    specific_model = DenseNet201(include_top=False, weights='imagenet',\n",
        "                  input_shape=(SIZE, SIZE, 3))\n",
        "  if tf_model == 'xception':\n",
        "    specific_model = Xception(include_top=False, weights='imagenet',\n",
        "                  input_shape=(SIZE, SIZE, 3))\n",
        "    \n",
        "  for layer in specific_model.layers:\n",
        "    layer.trainable = False\n",
        "\n",
        "  feature_extractor = specific_model.predict(X_train)\n",
        "\n",
        "  features = feature_extractor.reshape(feature_extractor.shape[0], -1)\n",
        "\n",
        "  X_for_ml = features\n",
        "  if ml_algorithm == 'rf':\n",
        "    specific_ml = RandomForestClassifier()\n",
        "  if ml_algorithm == 'svc':\n",
        "    specific_ml = SVC()\n",
        "  if ml_algorithm == 'lr':\n",
        "    specific_ml = LinearRegression()\n",
        "  if ml_algorithm == 'knn':\n",
        "    specific_ml = KNeighborsClassifier()\n",
        "  if ml_algorithm == 'nb':\n",
        "    specific_ml = GaussianNB()\n",
        "  \n",
        "  \n",
        "  specific_ml.fit(X_for_ml, y_train)\n",
        "\n",
        "  X_test_ml = specific_model.predict(X_test)\n",
        "  X_test_features = X_test_ml.reshape(X_test_ml.shape[0], -1)\n",
        "\n",
        "  ml_pred = specific_ml.predict(X_test_features)\n",
        "\n",
        "  real_ml_pred = encoder.inverse_transform(ml_pred)\n",
        "\n",
        "  return(f'Acccracy score of {tf_model} and {ml_algorithm} is', accuracy_score(test_labels, real_ml_pred),\n",
        "         f'Recall score of {tf_model} and {ml_algorithm} is', recall_score(test_labels, real_ml_pred, average='weighted'),\n",
        "         f'Precision score of {tf_model} and {ml_algorithm} is', precision_score(test_labels, real_ml_pred, average='weighted'),\n",
        "         f'F1 score of {tf_model} and {ml_algorithm} is', f1_score(test_labels, real_ml_pred, average='weighted'),\n",
        "          f'Confusion score of {tf_model} and {ml_algorithm} is', confusion_matrix(test_labels, real_ml_pred))\n",
        "\n",
        "\n",
        "\n",
        "\n"
      ],
      "execution_count": null,
      "outputs": []
    },
    {
      "cell_type": "code",
      "metadata": {
        "colab": {
          "base_uri": "https://localhost:8080/"
        },
        "id": "rHlRgt0kERHO",
        "outputId": "22fb416e-87c1-421e-a9f0-4a6386980e42"
      },
      "source": [
        "create_model('vgg16', 'rf')"
      ],
      "execution_count": null,
      "outputs": [
        {
          "output_type": "execute_result",
          "data": {
            "text/plain": [
              "('Acccracy score of vgg16 and rf is',\n",
              " 0.7804878048780488,\n",
              " 'Recall score of vgg16 and rf is',\n",
              " 0.7804878048780488,\n",
              " 'Precision score of vgg16 and rf is',\n",
              " 0.7505339793646859,\n",
              " 'F1 score of vgg16 and rf is',\n",
              " 0.7478297343385617,\n",
              " 'Confusion score of vgg16 and rf is',\n",
              " array([[ 19,  13,   3,   2,   0],\n",
              "        [  9,  87,   3,   1,   1],\n",
              "        [  0,   4, 177,   0,   0],\n",
              "        [  1,  18,   5,   3,   3],\n",
              "        [  0,  16,   1,   1,   2]]))"
            ]
          },
          "metadata": {
            "tags": []
          },
          "execution_count": 16
        }
      ]
    },
    {
      "cell_type": "markdown",
      "metadata": {
        "id": "Ln_GYFrEfj9I"
      },
      "source": [
        "# Check VGG with ML algorithms Performance"
      ]
    },
    {
      "cell_type": "code",
      "metadata": {
        "colab": {
          "base_uri": "https://localhost:8080/"
        },
        "id": "GmE2zgqMERW6",
        "outputId": "e65ab1a1-2e01-4381-e1af-3c0ae5dd4029"
      },
      "source": [
        "create_model('vgg16', 'svc')"
      ],
      "execution_count": null,
      "outputs": [
        {
          "output_type": "stream",
          "text": [
            "/usr/local/lib/python3.7/dist-packages/sklearn/metrics/_classification.py:1272: UndefinedMetricWarning: Precision is ill-defined and being set to 0.0 in labels with no predicted samples. Use `zero_division` parameter to control this behavior.\n",
            "  _warn_prf(average, modifier, msg_start, len(result))\n"
          ],
          "name": "stderr"
        },
        {
          "output_type": "execute_result",
          "data": {
            "text/plain": [
              "('Acccracy score of vgg16 and svc is',\n",
              " 0.7289972899728997,\n",
              " 'Recall score of vgg16 and svc is',\n",
              " 0.7289972899728997,\n",
              " 'Precision score of vgg16 and svc is',\n",
              " 0.6296726459328085,\n",
              " 'F1 score of vgg16 and svc is',\n",
              " 0.6437079597686292,\n",
              " 'Confusion score of vgg16 and svc is',\n",
              " array([[  0,  33,   4,   0,   0],\n",
              "        [  0,  89,  12,   0,   0],\n",
              "        [  0,   2, 179,   0,   0],\n",
              "        [  0,  22,   8,   0,   0],\n",
              "        [  0,  15,   4,   0,   1]]))"
            ]
          },
          "metadata": {
            "tags": []
          },
          "execution_count": 16
        }
      ]
    },
    {
      "cell_type": "code",
      "metadata": {
        "colab": {
          "base_uri": "https://localhost:8080/"
        },
        "id": "n43iE_DOERb6",
        "outputId": "dd6ed9bf-8115-4ae4-9c1e-763e48809503"
      },
      "source": [
        "create_model('vgg16', 'knn')"
      ],
      "execution_count": null,
      "outputs": [
        {
          "output_type": "execute_result",
          "data": {
            "text/plain": [
              "('Acccracy score of vgg16 and knn is',\n",
              " 0.7289972899728997,\n",
              " 'Recall score of vgg16 and knn is',\n",
              " 0.7289972899728997,\n",
              " 'Precision score of vgg16 and knn is',\n",
              " 0.7031496508122523,\n",
              " 'F1 score of vgg16 and knn is',\n",
              " 0.7065881403450726,\n",
              " 'Confusion score of vgg16 and knn is',\n",
              " array([[ 24,   8,   3,   2,   0],\n",
              "        [ 19,  71,   5,   5,   1],\n",
              "        [  1,   8, 170,   2,   0],\n",
              "        [  7,  13,   6,   3,   1],\n",
              "        [  3,  12,   1,   3,   1]]))"
            ]
          },
          "metadata": {
            "tags": []
          },
          "execution_count": 21
        }
      ]
    },
    {
      "cell_type": "code",
      "metadata": {
        "colab": {
          "base_uri": "https://localhost:8080/"
        },
        "id": "tIgtKEgRERjX",
        "outputId": "759390e7-29a6-4d27-9820-091b8944d7ca"
      },
      "source": [
        "create_model('vgg16', 'nb')"
      ],
      "execution_count": null,
      "outputs": [
        {
          "output_type": "execute_result",
          "data": {
            "text/plain": [
              "('Acccracy score of vgg16 and nb is',\n",
              " 0.6476964769647696,\n",
              " 'Recall score of vgg16 and nb is',\n",
              " 0.6476964769647696,\n",
              " 'Precision score of vgg16 and nb is',\n",
              " 0.6518997369494564,\n",
              " 'F1 score of vgg16 and nb is',\n",
              " 0.6457094698521569,\n",
              " 'Confusion score of vgg16 and nb is',\n",
              " array([[ 22,   5,   4,   5,   1],\n",
              "        [ 29,  45,   9,  14,   4],\n",
              "        [  3,  10, 163,   4,   1],\n",
              "        [  2,  15,   3,   7,   3],\n",
              "        [  3,  11,   1,   3,   2]]))"
            ]
          },
          "metadata": {
            "tags": []
          },
          "execution_count": 17
        }
      ]
    },
    {
      "cell_type": "markdown",
      "metadata": {
        "id": "U_hBb3PQfryX"
      },
      "source": [
        "# Check ResNet with ML algorithms performance"
      ]
    },
    {
      "cell_type": "code",
      "metadata": {
        "colab": {
          "base_uri": "https://localhost:8080/"
        },
        "id": "2kFHGMTkURlr",
        "outputId": "a36a6eaf-c33f-4f37-ebb8-b23eb99acea6"
      },
      "source": [
        "create_model('resnet50', 'rf')"
      ],
      "execution_count": null,
      "outputs": [
        {
          "output_type": "execute_result",
          "data": {
            "text/plain": [
              "('Acccracy score of resnet50 and rf is',\n",
              " 0.7642276422764228,\n",
              " 'Recall score of resnet50 and rf is',\n",
              " 0.7642276422764228,\n",
              " 'Precision score of resnet50 and rf is',\n",
              " 0.731971178107838,\n",
              " 'F1 score of resnet50 and rf is',\n",
              " 0.7271258035777077,\n",
              " 'Confusion score of resnet50 and rf is',\n",
              " array([[ 17,  16,   3,   1,   0],\n",
              "        [ 12,  82,   6,   0,   1],\n",
              "        [  0,   2, 179,   0,   0],\n",
              "        [  4,  16,   5,   2,   3],\n",
              "        [  0,  15,   2,   1,   2]]))"
            ]
          },
          "metadata": {
            "tags": []
          },
          "execution_count": 15
        }
      ]
    },
    {
      "cell_type": "code",
      "metadata": {
        "colab": {
          "base_uri": "https://localhost:8080/"
        },
        "id": "hNg0RaFtURox",
        "outputId": "d6b21ba5-abcc-4174-dd38-17bbfd37a680"
      },
      "source": [
        "create_model('resnet50', 'svc')"
      ],
      "execution_count": null,
      "outputs": [
        {
          "output_type": "stream",
          "text": [
            "Downloading data from https://storage.googleapis.com/tensorflow/keras-applications/resnet/resnet50_weights_tf_dim_ordering_tf_kernels_notop.h5\n",
            "94773248/94765736 [==============================] - 1s 0us/step\n"
          ],
          "name": "stdout"
        },
        {
          "output_type": "execute_result",
          "data": {
            "text/plain": [
              "('Acccracy score of resnet50 and svc is',\n",
              " 0.5989159891598916,\n",
              " 'Recall score of resnet50 and svc is',\n",
              " 0.5989159891598916,\n",
              " 'Precision score of resnet50 and svc is',\n",
              " 0.4543436388140231,\n",
              " 'F1 score of resnet50 and svc is',\n",
              " 0.4991451645351041,\n",
              " 'Confusion score of resnet50 and svc is',\n",
              " array([[  0,  13,  24,   0,   0],\n",
              "        [  0,  41,  60,   0,   0],\n",
              "        [  0,   1, 180,   0,   0],\n",
              "        [  0,   9,  21,   0,   0],\n",
              "        [  0,   7,  13,   0,   0]]))"
            ]
          },
          "metadata": {
            "tags": []
          },
          "execution_count": 15
        }
      ]
    },
    {
      "cell_type": "code",
      "metadata": {
        "colab": {
          "base_uri": "https://localhost:8080/"
        },
        "id": "TLmJKOqseIYm",
        "outputId": "b7d15837-50c8-4d0b-c1b9-d7a16594003c"
      },
      "source": [
        "create_model('resnet50', 'knn')"
      ],
      "execution_count": null,
      "outputs": [
        {
          "output_type": "execute_result",
          "data": {
            "text/plain": [
              "('Acccracy score of resnet50 and knn is',\n",
              " 0.7208672086720868,\n",
              " 'Recall score of resnet50 and knn is',\n",
              " 0.7208672086720868,\n",
              " 'Precision score of resnet50 and knn is',\n",
              " 0.7193280056230115,\n",
              " 'F1 score of resnet50 and knn is',\n",
              " 0.6962607392503223,\n",
              " 'Confusion score of resnet50 and knn is',\n",
              " array([[ 18,  15,   3,   0,   1],\n",
              "        [ 22,  73,   5,   1,   0],\n",
              "        [  1,  10, 170,   0,   0],\n",
              "        [  5,  17,   5,   2,   1],\n",
              "        [  3,  11,   2,   1,   3]]))"
            ]
          },
          "metadata": {
            "tags": []
          },
          "execution_count": 14
        }
      ]
    },
    {
      "cell_type": "code",
      "metadata": {
        "id": "fFIu35naeMdk",
        "colab": {
          "base_uri": "https://localhost:8080/"
        },
        "outputId": "bd330516-dd9e-447d-dc61-41a93925ae74"
      },
      "source": [
        "create_model('resnet50', 'nb')"
      ],
      "execution_count": null,
      "outputs": [
        {
          "output_type": "execute_result",
          "data": {
            "text/plain": [
              "('Acccracy score of resnet50 and nb is',\n",
              " 0.2682926829268293,\n",
              " 'Recall score of resnet50 and nb is',\n",
              " 0.2682926829268293,\n",
              " 'Precision score of resnet50 and nb is',\n",
              " 0.510901257881613,\n",
              " 'F1 score of resnet50 and nb is',\n",
              " 0.3130727512233344,\n",
              " 'Confusion score of resnet50 and nb is',\n",
              " array([[ 2,  0,  1, 32,  2],\n",
              "        [ 6,  5,  2, 82,  6],\n",
              "        [50, 18, 69, 35,  9],\n",
              "        [ 0,  6,  3, 19,  2],\n",
              "        [ 0,  2,  1, 13,  4]]))"
            ]
          },
          "metadata": {
            "tags": []
          },
          "execution_count": 15
        }
      ]
    },
    {
      "cell_type": "markdown",
      "metadata": {
        "id": "qbxMhziPf7SI"
      },
      "source": [
        "## Check XceptionNet with ML algorithms performance"
      ]
    },
    {
      "cell_type": "code",
      "metadata": {
        "colab": {
          "base_uri": "https://localhost:8080/"
        },
        "id": "eIuhSYhlMiSY",
        "outputId": "f7d9712c-4592-4e44-ce4b-85072c93e9c3"
      },
      "source": [
        "create_model('xception', 'rf')"
      ],
      "execution_count": null,
      "outputs": [
        {
          "output_type": "stream",
          "text": [
            "Downloading data from https://storage.googleapis.com/tensorflow/keras-applications/xception/xception_weights_tf_dim_ordering_tf_kernels_notop.h5\n",
            "83689472/83683744 [==============================] - 3s 0us/step\n"
          ],
          "name": "stdout"
        },
        {
          "output_type": "execute_result",
          "data": {
            "text/plain": [
              "('Acccracy score of xception and rf is',\n",
              " 0.7533875338753387,\n",
              " 'Recall score of xception and rf is',\n",
              " 0.7533875338753387,\n",
              " 'Precision score of xception and rf is',\n",
              " 0.7264315264997576,\n",
              " 'F1 score of xception and rf is',\n",
              " 0.7026756848128791,\n",
              " 'Confusion score of xception and rf is',\n",
              " array([[  8,  27,   2,   0,   0],\n",
              "        [  3,  91,   5,   1,   1],\n",
              "        [  0,   4, 177,   0,   0],\n",
              "        [  0,  23,   3,   1,   3],\n",
              "        [  0,  17,   1,   1,   1]]))"
            ]
          },
          "metadata": {
            "tags": []
          },
          "execution_count": 15
        }
      ]
    },
    {
      "cell_type": "code",
      "metadata": {
        "id": "auvUt6RUMiWv"
      },
      "source": [
        "%time create_model('xception', 'svc')"
      ],
      "execution_count": null,
      "outputs": []
    },
    {
      "cell_type": "code",
      "metadata": {
        "colab": {
          "base_uri": "https://localhost:8080/"
        },
        "id": "NrIBKiD9Miah",
        "outputId": "93b5d78c-5f61-44f1-ee79-a1829a023b6d"
      },
      "source": [
        "create_model('xception', 'knn')"
      ],
      "execution_count": null,
      "outputs": [
        {
          "output_type": "execute_result",
          "data": {
            "text/plain": [
              "('Acccracy score of xception and knn is',\n",
              " 0.7560975609756098,\n",
              " 'Recall score of xception and knn is',\n",
              " 0.7560975609756098,\n",
              " 'Precision score of xception and knn is',\n",
              " 0.7482903199024133,\n",
              " 'F1 score of xception and knn is',\n",
              " 0.7180726595047418,\n",
              " 'Confusion score of xception and knn is',\n",
              " array([[ 18,  15,   4,   0,   0],\n",
              "        [ 13,  82,   4,   2,   0],\n",
              "        [  2,   3, 176,   0,   0],\n",
              "        [  6,  19,   4,   1,   0],\n",
              "        [  1,  15,   2,   0,   2]]))"
            ]
          },
          "metadata": {
            "tags": []
          },
          "execution_count": 14
        }
      ]
    },
    {
      "cell_type": "code",
      "metadata": {
        "colab": {
          "base_uri": "https://localhost:8080/"
        },
        "id": "j6296kvXMiec",
        "outputId": "731a0036-d87f-4165-c784-e91df629116a"
      },
      "source": [
        "%time create_model('xception', 'nb')"
      ],
      "execution_count": null,
      "outputs": [
        {
          "output_type": "stream",
          "text": [
            "CPU times: user 40.4 s, sys: 3.75 s, total: 44.2 s\n",
            "Wall time: 1min 40s\n"
          ],
          "name": "stdout"
        },
        {
          "output_type": "execute_result",
          "data": {
            "text/plain": [
              "('Acccracy score of xception and nb is',\n",
              " 0.5880758807588076,\n",
              " 'Recall score of xception and nb is',\n",
              " 0.5880758807588076,\n",
              " 'Precision score of xception and nb is',\n",
              " 0.5997199008607349,\n",
              " 'F1 score of xception and nb is',\n",
              " 0.5925369245107559,\n",
              " 'Confusion score of xception and nb is',\n",
              " array([[  9,  20,   5,   2,   1],\n",
              "        [ 18,  48,   9,  21,   5],\n",
              "        [ 12,  16, 153,   0,   0],\n",
              "        [  3,  16,   4,   4,   3],\n",
              "        [  1,  11,   1,   4,   3]]))"
            ]
          },
          "metadata": {
            "tags": []
          },
          "execution_count": 15
        }
      ]
    },
    {
      "cell_type": "markdown",
      "metadata": {
        "id": "c1e6Tqx1gERC"
      },
      "source": [
        "# Check InceptionV3 with ML algorithms performance"
      ]
    },
    {
      "cell_type": "code",
      "metadata": {
        "colab": {
          "base_uri": "https://localhost:8080/"
        },
        "id": "A8LU6O1nMiie",
        "outputId": "18085280-b826-47a8-cc58-88f64aad0314"
      },
      "source": [
        "create_model('inceptionv3', 'rf')"
      ],
      "execution_count": null,
      "outputs": [
        {
          "output_type": "stream",
          "text": [
            "Downloading data from https://storage.googleapis.com/tensorflow/keras-applications/inception_v3/inception_v3_weights_tf_dim_ordering_tf_kernels_notop.h5\n",
            "87916544/87910968 [==============================] - 3s 0us/step\n"
          ],
          "name": "stdout"
        },
        {
          "output_type": "execute_result",
          "data": {
            "text/plain": [
              "('Acccracy score of inceptionv3 and rf is',\n",
              " 0.7479674796747967,\n",
              " 'Recall score of inceptionv3 and rf is',\n",
              " 0.7479674796747967,\n",
              " 'Precision score of inceptionv3 and rf is',\n",
              " 0.7599954087363981,\n",
              " 'F1 score of inceptionv3 and rf is',\n",
              " 0.6824648571682881,\n",
              " 'Confusion score of inceptionv3 and rf is',\n",
              " array([[  3,  29,   5,   0,   0],\n",
              "        [  0,  95,   5,   0,   1],\n",
              "        [  0,   5, 176,   0,   0],\n",
              "        [  0,  22,   4,   1,   3],\n",
              "        [  0,  18,   0,   1,   1]]))"
            ]
          },
          "metadata": {
            "tags": []
          },
          "execution_count": 14
        }
      ]
    },
    {
      "cell_type": "code",
      "metadata": {
        "colab": {
          "base_uri": "https://localhost:8080/"
        },
        "id": "aIhD-SvSMimU",
        "outputId": "7e15d8b5-b63a-44f5-e19a-ee1d397f629f"
      },
      "source": [
        "create_model('inceptionv3', 'svc')"
      ],
      "execution_count": null,
      "outputs": [
        {
          "output_type": "execute_result",
          "data": {
            "text/plain": [
              "('Acccracy score of inceptionv3 and svc is',\n",
              " 0.7804878048780488,\n",
              " 'Recall score of inceptionv3 and svc is',\n",
              " 0.7804878048780488,\n",
              " 'Precision score of inceptionv3 and svc is',\n",
              " 0.787779068266873,\n",
              " 'F1 score of inceptionv3 and svc is',\n",
              " 0.7346355022449522,\n",
              " 'Confusion score of inceptionv3 and svc is',\n",
              " array([[ 14,  21,   2,   0,   0],\n",
              "        [  1,  97,   3,   0,   0],\n",
              "        [  0,   6, 175,   0,   0],\n",
              "        [  1,  26,   1,   1,   1],\n",
              "        [  0,  18,   0,   1,   1]]))"
            ]
          },
          "metadata": {
            "tags": []
          },
          "execution_count": 14
        }
      ]
    },
    {
      "cell_type": "code",
      "metadata": {
        "colab": {
          "base_uri": "https://localhost:8080/"
        },
        "id": "7mejYgCAMipr",
        "outputId": "b339d47f-a529-42e8-ac7e-23e53ffe703b"
      },
      "source": [
        "create_model('inceptionv3', 'knn')"
      ],
      "execution_count": null,
      "outputs": [
        {
          "output_type": "execute_result",
          "data": {
            "text/plain": [
              "('Acccracy score of inceptionv3 and knn is',\n",
              " 0.6991869918699187,\n",
              " 'Recall score of inceptionv3 and knn is',\n",
              " 0.6991869918699187,\n",
              " 'Precision score of inceptionv3 and knn is',\n",
              " 0.6768469985685587,\n",
              " 'F1 score of inceptionv3 and knn is',\n",
              " 0.675241390548271,\n",
              " 'Confusion score of inceptionv3 and knn is',\n",
              " array([[ 16,  15,   5,   1,   0],\n",
              "        [ 23,  64,  10,   3,   1],\n",
              "        [  4,   3, 174,   0,   0],\n",
              "        [  6,  19,   1,   3,   1],\n",
              "        [  2,  15,   0,   2,   1]]))"
            ]
          },
          "metadata": {
            "tags": []
          },
          "execution_count": 15
        }
      ]
    },
    {
      "cell_type": "code",
      "metadata": {
        "id": "vK9YHBm1eM5X",
        "colab": {
          "base_uri": "https://localhost:8080/"
        },
        "outputId": "d69bb4ab-17f0-4461-e2f6-30603e1bb4ea"
      },
      "source": [
        "create_model('inceptionv3', 'nb')"
      ],
      "execution_count": null,
      "outputs": [
        {
          "output_type": "execute_result",
          "data": {
            "text/plain": [
              "('Acccracy score of inceptionv3 and nb is',\n",
              " 0.6504065040650406,\n",
              " 'Recall score of inceptionv3 and nb is',\n",
              " 0.6504065040650406,\n",
              " 'Precision score of inceptionv3 and nb is',\n",
              " 0.6897128930580256,\n",
              " 'F1 score of inceptionv3 and nb is',\n",
              " 0.663805970525623,\n",
              " 'Confusion score of inceptionv3 and nb is',\n",
              " array([[ 25,   6,   2,   2,   2],\n",
              "        [ 20,  55,   2,  16,   8],\n",
              "        [ 10,  22, 148,   1,   0],\n",
              "        [  5,  12,   2,   8,   3],\n",
              "        [  1,   9,   0,   6,   4]]))"
            ]
          },
          "metadata": {
            "tags": []
          },
          "execution_count": 16
        }
      ]
    },
    {
      "cell_type": "code",
      "metadata": {
        "id": "imqHFjBBeM8Y"
      },
      "source": [
        ""
      ],
      "execution_count": null,
      "outputs": []
    },
    {
      "cell_type": "code",
      "metadata": {
        "id": "LJ1QqxJFeM_5"
      },
      "source": [
        ""
      ],
      "execution_count": null,
      "outputs": []
    },
    {
      "cell_type": "code",
      "metadata": {
        "colab": {
          "base_uri": "https://localhost:8080/"
        },
        "id": "drbCDbvIERnN",
        "outputId": "d89f1a94-81c6-468b-d07f-272bea45748a"
      },
      "source": [
        "for i in ['vgg16, inceptionv3', 'resnet50', 'mobilenet', 'densenet', 'xception']:\n",
        "  for j in ['rf', 'svc', 'knn', 'lr', 'nb']:\n",
        "    try:\n",
        "      create_model(i, j)\n",
        "      print('=================================')\n",
        "      print()\n",
        "    \n",
        "    except Exception as e:\n",
        "      print(e)"
      ],
      "execution_count": null,
      "outputs": [
        {
          "output_type": "stream",
          "text": [
            "local variable 'specific_model' referenced before assignment\n",
            "local variable 'specific_model' referenced before assignment\n",
            "local variable 'specific_model' referenced before assignment\n",
            "local variable 'specific_model' referenced before assignment\n",
            "local variable 'specific_model' referenced before assignment\n",
            "=================================\n",
            "\n"
          ],
          "name": "stdout"
        }
      ]
    },
    {
      "cell_type": "markdown",
      "metadata": {
        "id": "Ew0sPfClgNSC"
      },
      "source": [
        "# Check MobileNet with ML algorithms performance"
      ]
    },
    {
      "cell_type": "code",
      "metadata": {
        "colab": {
          "base_uri": "https://localhost:8080/"
        },
        "id": "-Q9OtR1SZPku",
        "outputId": "a30bf12f-2b17-41de-ca34-09fdbb4e394f"
      },
      "source": [
        "create_model('mobilenet', 'rf')"
      ],
      "execution_count": null,
      "outputs": [
        {
          "output_type": "stream",
          "text": [
            "Downloading data from https://storage.googleapis.com/tensorflow/keras-applications/mobilenet/mobilenet_1_0_224_tf_no_top.h5\n",
            "17227776/17225924 [==============================] - 1s 0us/step\n"
          ],
          "name": "stdout"
        },
        {
          "output_type": "execute_result",
          "data": {
            "text/plain": [
              "('Acccracy score of mobilenet and rf is',\n",
              " 0.7831978319783198,\n",
              " 'Recall score of mobilenet and rf is',\n",
              " 0.7831978319783198,\n",
              " 'Precision score of mobilenet and rf is',\n",
              " 0.7769699268829279,\n",
              " 'F1 score of mobilenet and rf is',\n",
              " 0.739642611211657,\n",
              " 'Confusion score of mobilenet and rf is',\n",
              " array([[ 14,  20,   3,   0,   0],\n",
              "        [  2,  94,   4,   0,   1],\n",
              "        [  0,   3, 178,   0,   0],\n",
              "        [  1,  21,   3,   2,   3],\n",
              "        [  0,  18,   0,   1,   1]]))"
            ]
          },
          "metadata": {
            "tags": []
          },
          "execution_count": 17
        }
      ]
    },
    {
      "cell_type": "code",
      "metadata": {
        "colab": {
          "base_uri": "https://localhost:8080/"
        },
        "id": "e2AEYq9MZPoz",
        "outputId": "60906ede-c9a1-487e-de76-e70f67e30660"
      },
      "source": [
        "create_model('mobilenet', 'svc')"
      ],
      "execution_count": null,
      "outputs": [
        {
          "output_type": "execute_result",
          "data": {
            "text/plain": [
              "('Acccracy score of mobilenet and svc is',\n",
              " 0.7831978319783198,\n",
              " 'Recall score of mobilenet and svc is',\n",
              " 0.7831978319783198,\n",
              " 'Precision score of mobilenet and svc is',\n",
              " 0.7863005377962978,\n",
              " 'F1 score of mobilenet and svc is',\n",
              " 0.7441585098243783,\n",
              " 'Confusion score of mobilenet and svc is',\n",
              " array([[ 17,  17,   3,   0,   0],\n",
              "        [  7,  91,   3,   0,   0],\n",
              "        [  2,   2, 177,   0,   0],\n",
              "        [  1,  23,   3,   2,   1],\n",
              "        [  0,  17,   0,   1,   2]]))"
            ]
          },
          "metadata": {
            "tags": []
          },
          "execution_count": 14
        }
      ]
    },
    {
      "cell_type": "code",
      "metadata": {
        "colab": {
          "base_uri": "https://localhost:8080/"
        },
        "id": "4LIpZUNhZPsh",
        "outputId": "f29b4f05-47d2-4310-9323-be9d9e193d39"
      },
      "source": [
        "create_model('mobilenet', 'knn')"
      ],
      "execution_count": null,
      "outputs": [
        {
          "output_type": "execute_result",
          "data": {
            "text/plain": [
              "('Acccracy score of mobilenet and knn is',\n",
              " 0.7425474254742548,\n",
              " 'Recall score of mobilenet and knn is',\n",
              " 0.7425474254742548,\n",
              " 'Precision score of mobilenet and knn is',\n",
              " 0.7025530856526171,\n",
              " 'F1 score of mobilenet and knn is',\n",
              " 0.7102121288466547,\n",
              " 'Confusion score of mobilenet and knn is',\n",
              " array([[ 23,  11,   2,   0,   1],\n",
              "        [ 22,  72,   4,   3,   0],\n",
              "        [  2,   2, 177,   0,   0],\n",
              "        [  3,  21,   4,   1,   1],\n",
              "        [  3,  13,   1,   2,   1]]))"
            ]
          },
          "metadata": {
            "tags": []
          },
          "execution_count": 15
        }
      ]
    },
    {
      "cell_type": "code",
      "metadata": {
        "colab": {
          "base_uri": "https://localhost:8080/"
        },
        "id": "3w76p6FYZPwG",
        "outputId": "1b0dc76b-729a-4ed4-bb3d-eb66d7bec803"
      },
      "source": [
        "create_model('mobilenet', 'nb')"
      ],
      "execution_count": null,
      "outputs": [
        {
          "output_type": "execute_result",
          "data": {
            "text/plain": [
              "('Acccracy score of mobilenet and nb is',\n",
              " 0.7018970189701897,\n",
              " 'Recall score of mobilenet and nb is',\n",
              " 0.7018970189701897,\n",
              " 'Precision score of mobilenet and nb is',\n",
              " 0.6908068296642998,\n",
              " 'F1 score of mobilenet and nb is',\n",
              " 0.6721765357054937,\n",
              " 'Confusion score of mobilenet and nb is',\n",
              " array([[  4,  27,   2,   4,   0],\n",
              "        [  3,  86,   5,   6,   1],\n",
              "        [  3,  16, 161,   1,   0],\n",
              "        [  0,  18,   4,   5,   3],\n",
              "        [  0,  16,   0,   1,   3]]))"
            ]
          },
          "metadata": {
            "tags": []
          },
          "execution_count": 16
        }
      ]
    },
    {
      "cell_type": "markdown",
      "metadata": {
        "id": "P356mRPYgaA-"
      },
      "source": [
        "# Check DenseNet with ML alorithms performance"
      ]
    },
    {
      "cell_type": "code",
      "metadata": {
        "colab": {
          "base_uri": "https://localhost:8080/"
        },
        "id": "i5zOJg9aekjW",
        "outputId": "e9823dc4-916e-4ffd-c73d-99d1f950d708"
      },
      "source": [
        "create_model('densenet', 'rf')"
      ],
      "execution_count": null,
      "outputs": [
        {
          "output_type": "stream",
          "text": [
            "Downloading data from https://storage.googleapis.com/tensorflow/keras-applications/densenet/densenet201_weights_tf_dim_ordering_tf_kernels_notop.h5\n",
            "74842112/74836368 [==============================] - 2s 0us/step\n"
          ],
          "name": "stdout"
        },
        {
          "output_type": "execute_result",
          "data": {
            "text/plain": [
              "('Acccracy score of densenet and rf is',\n",
              " 0.7777777777777778,\n",
              " 'Recall score of densenet and rf is',\n",
              " 0.7777777777777778,\n",
              " 'Precision score of densenet and rf is',\n",
              " 0.7465813993180651,\n",
              " 'F1 score of densenet and rf is',\n",
              " 0.7444729483049927,\n",
              " 'Confusion score of densenet and rf is',\n",
              " array([[ 16,  16,   3,   2,   0],\n",
              "        [  9,  87,   3,   1,   1],\n",
              "        [  1,   1, 179,   0,   0],\n",
              "        [  3,  18,   3,   3,   3],\n",
              "        [  0,  17,   0,   1,   2]]))"
            ]
          },
          "metadata": {
            "tags": []
          },
          "execution_count": 17
        }
      ]
    },
    {
      "cell_type": "code",
      "metadata": {
        "id": "aymXCofUeknm"
      },
      "source": [
        "create_model('densenet', 'svc')"
      ],
      "execution_count": null,
      "outputs": []
    },
    {
      "cell_type": "code",
      "metadata": {
        "colab": {
          "base_uri": "https://localhost:8080/"
        },
        "id": "84UBv1fAekrP",
        "outputId": "866c8283-a7e7-4076-d672-4fef88824af8"
      },
      "source": [
        "create_model('densenet', 'knn')"
      ],
      "execution_count": null,
      "outputs": [
        {
          "output_type": "execute_result",
          "data": {
            "text/plain": [
              "('Acccracy score of densenet and knn is',\n",
              " 0.7425474254742548,\n",
              " 'Recall score of densenet and knn is',\n",
              " 0.7425474254742548,\n",
              " 'Precision score of densenet and knn is',\n",
              " 0.7208863606711565,\n",
              " 'F1 score of densenet and knn is',\n",
              " 0.7178597308599158,\n",
              " 'Confusion score of densenet and knn is',\n",
              " array([[ 19,  15,   3,   0,   0],\n",
              "        [ 20,  71,   4,   3,   3],\n",
              "        [  1,   2, 178,   0,   0],\n",
              "        [  7,  15,   4,   3,   1],\n",
              "        [  0,  13,   3,   1,   3]]))"
            ]
          },
          "metadata": {
            "tags": []
          },
          "execution_count": 14
        }
      ]
    },
    {
      "cell_type": "code",
      "metadata": {
        "id": "fUdo2XFMUSdR",
        "colab": {
          "base_uri": "https://localhost:8080/"
        },
        "outputId": "4ad86bff-12c2-4593-aba3-ed151797b278"
      },
      "source": [
        "create_model('densenet', 'nb')"
      ],
      "execution_count": null,
      "outputs": [
        {
          "output_type": "execute_result",
          "data": {
            "text/plain": [
              "('Acccracy score of densenet and nb is',\n",
              " 0.6612466124661247,\n",
              " 'Recall score of densenet and nb is',\n",
              " 0.6612466124661247,\n",
              " 'Precision score of densenet and nb is',\n",
              " 0.6986123079599478,\n",
              " 'F1 score of densenet and nb is',\n",
              " 0.6727113261411953,\n",
              " 'Confusion score of densenet and nb is',\n",
              " array([[ 26,   5,   0,   6,   0],\n",
              "        [ 24,  58,   3,  11,   5],\n",
              "        [  7,  23, 146,   3,   2],\n",
              "        [  4,  11,   2,  10,   3],\n",
              "        [  1,  10,   2,   3,   4]]))"
            ]
          },
          "metadata": {
            "tags": []
          },
          "execution_count": 15
        }
      ]
    },
    {
      "cell_type": "markdown",
      "metadata": {
        "id": "FMH-y2K5gt43"
      },
      "source": [
        "# Hyperparamters Tuning for MobileNet and SVC"
      ]
    },
    {
      "cell_type": "code",
      "metadata": {
        "id": "BCKtqOuabL25",
        "colab": {
          "base_uri": "https://localhost:8080/"
        },
        "outputId": "54c0901e-b6ee-4c59-e375-93446fdc6869"
      },
      "source": [
        "mobilenet_model = MobileNet(include_top=False, weights='imagenet',\n",
        "                  input_shape=(SIZE, SIZE, 3))"
      ],
      "execution_count": null,
      "outputs": [
        {
          "output_type": "stream",
          "text": [
            "Downloading data from https://storage.googleapis.com/tensorflow/keras-applications/mobilenet/mobilenet_1_0_224_tf_no_top.h5\n",
            "17227776/17225924 [==============================] - 0s 0us/step\n"
          ],
          "name": "stdout"
        }
      ]
    },
    {
      "cell_type": "code",
      "metadata": {
        "colab": {
          "base_uri": "https://localhost:8080/"
        },
        "id": "-QYAhA8mbvCV",
        "outputId": "55719fea-e97a-41f0-a0b2-56447b8463d3"
      },
      "source": [
        "mobilenet_model.summary()"
      ],
      "execution_count": null,
      "outputs": [
        {
          "output_type": "stream",
          "text": [
            "Model: \"mobilenet_1.00_224\"\n",
            "_________________________________________________________________\n",
            "Layer (type)                 Output Shape              Param #   \n",
            "=================================================================\n",
            "input_1 (InputLayer)         [(None, 224, 224, 3)]     0         \n",
            "_________________________________________________________________\n",
            "conv1 (Conv2D)               (None, 112, 112, 32)      864       \n",
            "_________________________________________________________________\n",
            "conv1_bn (BatchNormalization (None, 112, 112, 32)      128       \n",
            "_________________________________________________________________\n",
            "conv1_relu (ReLU)            (None, 112, 112, 32)      0         \n",
            "_________________________________________________________________\n",
            "conv_dw_1 (DepthwiseConv2D)  (None, 112, 112, 32)      288       \n",
            "_________________________________________________________________\n",
            "conv_dw_1_bn (BatchNormaliza (None, 112, 112, 32)      128       \n",
            "_________________________________________________________________\n",
            "conv_dw_1_relu (ReLU)        (None, 112, 112, 32)      0         \n",
            "_________________________________________________________________\n",
            "conv_pw_1 (Conv2D)           (None, 112, 112, 64)      2048      \n",
            "_________________________________________________________________\n",
            "conv_pw_1_bn (BatchNormaliza (None, 112, 112, 64)      256       \n",
            "_________________________________________________________________\n",
            "conv_pw_1_relu (ReLU)        (None, 112, 112, 64)      0         \n",
            "_________________________________________________________________\n",
            "conv_pad_2 (ZeroPadding2D)   (None, 113, 113, 64)      0         \n",
            "_________________________________________________________________\n",
            "conv_dw_2 (DepthwiseConv2D)  (None, 56, 56, 64)        576       \n",
            "_________________________________________________________________\n",
            "conv_dw_2_bn (BatchNormaliza (None, 56, 56, 64)        256       \n",
            "_________________________________________________________________\n",
            "conv_dw_2_relu (ReLU)        (None, 56, 56, 64)        0         \n",
            "_________________________________________________________________\n",
            "conv_pw_2 (Conv2D)           (None, 56, 56, 128)       8192      \n",
            "_________________________________________________________________\n",
            "conv_pw_2_bn (BatchNormaliza (None, 56, 56, 128)       512       \n",
            "_________________________________________________________________\n",
            "conv_pw_2_relu (ReLU)        (None, 56, 56, 128)       0         \n",
            "_________________________________________________________________\n",
            "conv_dw_3 (DepthwiseConv2D)  (None, 56, 56, 128)       1152      \n",
            "_________________________________________________________________\n",
            "conv_dw_3_bn (BatchNormaliza (None, 56, 56, 128)       512       \n",
            "_________________________________________________________________\n",
            "conv_dw_3_relu (ReLU)        (None, 56, 56, 128)       0         \n",
            "_________________________________________________________________\n",
            "conv_pw_3 (Conv2D)           (None, 56, 56, 128)       16384     \n",
            "_________________________________________________________________\n",
            "conv_pw_3_bn (BatchNormaliza (None, 56, 56, 128)       512       \n",
            "_________________________________________________________________\n",
            "conv_pw_3_relu (ReLU)        (None, 56, 56, 128)       0         \n",
            "_________________________________________________________________\n",
            "conv_pad_4 (ZeroPadding2D)   (None, 57, 57, 128)       0         \n",
            "_________________________________________________________________\n",
            "conv_dw_4 (DepthwiseConv2D)  (None, 28, 28, 128)       1152      \n",
            "_________________________________________________________________\n",
            "conv_dw_4_bn (BatchNormaliza (None, 28, 28, 128)       512       \n",
            "_________________________________________________________________\n",
            "conv_dw_4_relu (ReLU)        (None, 28, 28, 128)       0         \n",
            "_________________________________________________________________\n",
            "conv_pw_4 (Conv2D)           (None, 28, 28, 256)       32768     \n",
            "_________________________________________________________________\n",
            "conv_pw_4_bn (BatchNormaliza (None, 28, 28, 256)       1024      \n",
            "_________________________________________________________________\n",
            "conv_pw_4_relu (ReLU)        (None, 28, 28, 256)       0         \n",
            "_________________________________________________________________\n",
            "conv_dw_5 (DepthwiseConv2D)  (None, 28, 28, 256)       2304      \n",
            "_________________________________________________________________\n",
            "conv_dw_5_bn (BatchNormaliza (None, 28, 28, 256)       1024      \n",
            "_________________________________________________________________\n",
            "conv_dw_5_relu (ReLU)        (None, 28, 28, 256)       0         \n",
            "_________________________________________________________________\n",
            "conv_pw_5 (Conv2D)           (None, 28, 28, 256)       65536     \n",
            "_________________________________________________________________\n",
            "conv_pw_5_bn (BatchNormaliza (None, 28, 28, 256)       1024      \n",
            "_________________________________________________________________\n",
            "conv_pw_5_relu (ReLU)        (None, 28, 28, 256)       0         \n",
            "_________________________________________________________________\n",
            "conv_pad_6 (ZeroPadding2D)   (None, 29, 29, 256)       0         \n",
            "_________________________________________________________________\n",
            "conv_dw_6 (DepthwiseConv2D)  (None, 14, 14, 256)       2304      \n",
            "_________________________________________________________________\n",
            "conv_dw_6_bn (BatchNormaliza (None, 14, 14, 256)       1024      \n",
            "_________________________________________________________________\n",
            "conv_dw_6_relu (ReLU)        (None, 14, 14, 256)       0         \n",
            "_________________________________________________________________\n",
            "conv_pw_6 (Conv2D)           (None, 14, 14, 512)       131072    \n",
            "_________________________________________________________________\n",
            "conv_pw_6_bn (BatchNormaliza (None, 14, 14, 512)       2048      \n",
            "_________________________________________________________________\n",
            "conv_pw_6_relu (ReLU)        (None, 14, 14, 512)       0         \n",
            "_________________________________________________________________\n",
            "conv_dw_7 (DepthwiseConv2D)  (None, 14, 14, 512)       4608      \n",
            "_________________________________________________________________\n",
            "conv_dw_7_bn (BatchNormaliza (None, 14, 14, 512)       2048      \n",
            "_________________________________________________________________\n",
            "conv_dw_7_relu (ReLU)        (None, 14, 14, 512)       0         \n",
            "_________________________________________________________________\n",
            "conv_pw_7 (Conv2D)           (None, 14, 14, 512)       262144    \n",
            "_________________________________________________________________\n",
            "conv_pw_7_bn (BatchNormaliza (None, 14, 14, 512)       2048      \n",
            "_________________________________________________________________\n",
            "conv_pw_7_relu (ReLU)        (None, 14, 14, 512)       0         \n",
            "_________________________________________________________________\n",
            "conv_dw_8 (DepthwiseConv2D)  (None, 14, 14, 512)       4608      \n",
            "_________________________________________________________________\n",
            "conv_dw_8_bn (BatchNormaliza (None, 14, 14, 512)       2048      \n",
            "_________________________________________________________________\n",
            "conv_dw_8_relu (ReLU)        (None, 14, 14, 512)       0         \n",
            "_________________________________________________________________\n",
            "conv_pw_8 (Conv2D)           (None, 14, 14, 512)       262144    \n",
            "_________________________________________________________________\n",
            "conv_pw_8_bn (BatchNormaliza (None, 14, 14, 512)       2048      \n",
            "_________________________________________________________________\n",
            "conv_pw_8_relu (ReLU)        (None, 14, 14, 512)       0         \n",
            "_________________________________________________________________\n",
            "conv_dw_9 (DepthwiseConv2D)  (None, 14, 14, 512)       4608      \n",
            "_________________________________________________________________\n",
            "conv_dw_9_bn (BatchNormaliza (None, 14, 14, 512)       2048      \n",
            "_________________________________________________________________\n",
            "conv_dw_9_relu (ReLU)        (None, 14, 14, 512)       0         \n",
            "_________________________________________________________________\n",
            "conv_pw_9 (Conv2D)           (None, 14, 14, 512)       262144    \n",
            "_________________________________________________________________\n",
            "conv_pw_9_bn (BatchNormaliza (None, 14, 14, 512)       2048      \n",
            "_________________________________________________________________\n",
            "conv_pw_9_relu (ReLU)        (None, 14, 14, 512)       0         \n",
            "_________________________________________________________________\n",
            "conv_dw_10 (DepthwiseConv2D) (None, 14, 14, 512)       4608      \n",
            "_________________________________________________________________\n",
            "conv_dw_10_bn (BatchNormaliz (None, 14, 14, 512)       2048      \n",
            "_________________________________________________________________\n",
            "conv_dw_10_relu (ReLU)       (None, 14, 14, 512)       0         \n",
            "_________________________________________________________________\n",
            "conv_pw_10 (Conv2D)          (None, 14, 14, 512)       262144    \n",
            "_________________________________________________________________\n",
            "conv_pw_10_bn (BatchNormaliz (None, 14, 14, 512)       2048      \n",
            "_________________________________________________________________\n",
            "conv_pw_10_relu (ReLU)       (None, 14, 14, 512)       0         \n",
            "_________________________________________________________________\n",
            "conv_dw_11 (DepthwiseConv2D) (None, 14, 14, 512)       4608      \n",
            "_________________________________________________________________\n",
            "conv_dw_11_bn (BatchNormaliz (None, 14, 14, 512)       2048      \n",
            "_________________________________________________________________\n",
            "conv_dw_11_relu (ReLU)       (None, 14, 14, 512)       0         \n",
            "_________________________________________________________________\n",
            "conv_pw_11 (Conv2D)          (None, 14, 14, 512)       262144    \n",
            "_________________________________________________________________\n",
            "conv_pw_11_bn (BatchNormaliz (None, 14, 14, 512)       2048      \n",
            "_________________________________________________________________\n",
            "conv_pw_11_relu (ReLU)       (None, 14, 14, 512)       0         \n",
            "_________________________________________________________________\n",
            "conv_pad_12 (ZeroPadding2D)  (None, 15, 15, 512)       0         \n",
            "_________________________________________________________________\n",
            "conv_dw_12 (DepthwiseConv2D) (None, 7, 7, 512)         4608      \n",
            "_________________________________________________________________\n",
            "conv_dw_12_bn (BatchNormaliz (None, 7, 7, 512)         2048      \n",
            "_________________________________________________________________\n",
            "conv_dw_12_relu (ReLU)       (None, 7, 7, 512)         0         \n",
            "_________________________________________________________________\n",
            "conv_pw_12 (Conv2D)          (None, 7, 7, 1024)        524288    \n",
            "_________________________________________________________________\n",
            "conv_pw_12_bn (BatchNormaliz (None, 7, 7, 1024)        4096      \n",
            "_________________________________________________________________\n",
            "conv_pw_12_relu (ReLU)       (None, 7, 7, 1024)        0         \n",
            "_________________________________________________________________\n",
            "conv_dw_13 (DepthwiseConv2D) (None, 7, 7, 1024)        9216      \n",
            "_________________________________________________________________\n",
            "conv_dw_13_bn (BatchNormaliz (None, 7, 7, 1024)        4096      \n",
            "_________________________________________________________________\n",
            "conv_dw_13_relu (ReLU)       (None, 7, 7, 1024)        0         \n",
            "_________________________________________________________________\n",
            "conv_pw_13 (Conv2D)          (None, 7, 7, 1024)        1048576   \n",
            "_________________________________________________________________\n",
            "conv_pw_13_bn (BatchNormaliz (None, 7, 7, 1024)        4096      \n",
            "_________________________________________________________________\n",
            "conv_pw_13_relu (ReLU)       (None, 7, 7, 1024)        0         \n",
            "=================================================================\n",
            "Total params: 3,228,864\n",
            "Trainable params: 3,206,976\n",
            "Non-trainable params: 21,888\n",
            "_________________________________________________________________\n"
          ],
          "name": "stdout"
        }
      ]
    },
    {
      "cell_type": "code",
      "metadata": {
        "id": "0U9fwd-jbx3h"
      },
      "source": [
        "for layer in mobilenet_model.layers:\n",
        "  layer.trainable = False"
      ],
      "execution_count": null,
      "outputs": []
    },
    {
      "cell_type": "code",
      "metadata": {
        "id": "rnJZRnFFb6vw"
      },
      "source": [
        "feature_extractor = mobilenet_model.predict(X_train)"
      ],
      "execution_count": null,
      "outputs": []
    },
    {
      "cell_type": "code",
      "metadata": {
        "id": "0CXpVyM1cGee"
      },
      "source": [
        "features = feature_extractor.reshape(feature_extractor.shape[0], -1)"
      ],
      "execution_count": null,
      "outputs": []
    },
    {
      "cell_type": "code",
      "metadata": {
        "colab": {
          "base_uri": "https://localhost:8080/"
        },
        "id": "5larSjUKcmMj",
        "outputId": "2faacbb4-6449-48e7-f00c-3d5e2910c0e8"
      },
      "source": [
        "X_for_svc = features\n",
        "\n",
        "svc = SVC()\n",
        "svc.fit(X_for_svc, y_train)"
      ],
      "execution_count": null,
      "outputs": [
        {
          "output_type": "execute_result",
          "data": {
            "text/plain": [
              "SVC(C=1.0, break_ties=False, cache_size=200, class_weight=None, coef0=0.0,\n",
              "    decision_function_shape='ovr', degree=3, gamma='scale', kernel='rbf',\n",
              "    max_iter=-1, probability=False, random_state=None, shrinking=True,\n",
              "    tol=0.001, verbose=False)"
            ]
          },
          "metadata": {
            "tags": []
          },
          "execution_count": 19
        }
      ]
    },
    {
      "cell_type": "code",
      "metadata": {
        "id": "KVKqVqNHevFy"
      },
      "source": [
        "X_test_svc = mobilenet_model.predict(X_test)\n",
        "X_test_features = X_test_svc.reshape(X_test_svc.shape[0], -1)"
      ],
      "execution_count": null,
      "outputs": []
    },
    {
      "cell_type": "code",
      "metadata": {
        "id": "JQ4LxCXGiwY_"
      },
      "source": [
        "svc_pred = svc.predict(X_test_features)"
      ],
      "execution_count": null,
      "outputs": []
    },
    {
      "cell_type": "code",
      "metadata": {
        "id": "AQgE-39Mjbcp"
      },
      "source": [
        "real_svc_pred = encoder.inverse_transform(svc_pred)"
      ],
      "execution_count": null,
      "outputs": []
    },
    {
      "cell_type": "code",
      "metadata": {
        "id": "9ISwWzsBjAup"
      },
      "source": [
        "from sklearn.metrics import accuracy_score, classification_report, roc_auc_score"
      ],
      "execution_count": null,
      "outputs": []
    },
    {
      "cell_type": "code",
      "metadata": {
        "colab": {
          "base_uri": "https://localhost:8080/"
        },
        "id": "g2FT8_b8jM1Q",
        "outputId": "d9308a96-53ed-46a3-a7ab-b42f65145d27"
      },
      "source": [
        "print('Acccracy score of model is', accuracy_score(test_labels, real_svc_pred))\n",
        "print(classification_report(test_labels, real_svc_pred))"
      ],
      "execution_count": null,
      "outputs": [
        {
          "output_type": "stream",
          "text": [
            "Acccracy score of model is 0.7831978319783198\n",
            "                                                                  precision    recall  f1-score   support\n",
            "\n",
            "          /content/gdrive/MyDrive/Diabetes data/output/test/Mild       0.63      0.46      0.53        37\n",
            "      /content/gdrive/MyDrive/Diabetes data/output/test/Moderate       0.61      0.90      0.73       101\n",
            "         /content/gdrive/MyDrive/Diabetes data/output/test/No_DR       0.95      0.98      0.96       181\n",
            "/content/gdrive/MyDrive/Diabetes data/output/test/Proliferate_DR       0.67      0.07      0.12        30\n",
            "        /content/gdrive/MyDrive/Diabetes data/output/test/Severe       0.67      0.10      0.17        20\n",
            "\n",
            "                                                        accuracy                           0.78       369\n",
            "                                                       macro avg       0.70      0.50      0.50       369\n",
            "                                                    weighted avg       0.79      0.78      0.74       369\n",
            "\n"
          ],
          "name": "stdout"
        }
      ]
    },
    {
      "cell_type": "code",
      "metadata": {
        "id": "dLlePOl8jeKU"
      },
      "source": [
        "\n",
        "param_grid = {'C': [0.1,1, 10, 100], 'gamma': [1,0.1,0.01,0.001],'kernel': ['rbf', 'poly', 'sigmoid']}\n",
        "\n",
        "# Apply RandomizedSearchCV with the defined paramters\n",
        "model_search = RandomizedSearchCV(svc, param_distributions=param_grid, scoring='accuracy')\n",
        "%time model_search.fit(X_for_svc, y_train)\n",
        "\n",
        "\n",
        "y_pred_op = model_search.predict(X_test_features)\n",
        "real_svc_pred_op = encoder.inverse_transform(y_pred_op)\n",
        "# Check metrics\n",
        "print('Acccracy score of model is', accuracy_score(test_labels, real_svc_pred_op))\n",
        "print('Recall score of model is', recall_score(test_labels, real_svc_pred_op))\n",
        "print('Precision score of model is', precision_score(test_labels, real_svc_pred_op))\n",
        "print('Classifcation score of model is', classification_report(test_labels, real_svc_pred_op))\n",
        "print(model_search.best_estimator_)\n",
        "# Print the best combination"
      ],
      "execution_count": null,
      "outputs": []
    },
    {
      "cell_type": "code",
      "metadata": {
        "id": "mH3Hvg8TSs5v"
      },
      "source": [
        "auc_score = roc_auc_score(test_labels, real_svc_pred_op)\n",
        "print(auc_score)"
      ],
      "execution_count": null,
      "outputs": []
    },
    {
      "cell_type": "code",
      "metadata": {
        "id": "gio1d0pkRzQH"
      },
      "source": [
        ""
      ],
      "execution_count": null,
      "outputs": []
    }
  ]
}
